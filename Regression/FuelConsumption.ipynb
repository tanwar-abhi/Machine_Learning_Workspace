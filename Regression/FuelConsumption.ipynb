{
 "cells": [
  {
   "cell_type": "code",
   "execution_count": 1,
   "metadata": {},
   "outputs": [],
   "source": [
    "import pandas as pd\n",
    "import numpy as np\n",
    "import matplotlib.pyplot as plt\n",
    "%matplotlib inline\n",
    "import seaborn as sns\n",
    "import random"
   ]
  },
  {
   "cell_type": "markdown",
   "metadata": {},
   "source": [
    "#### Importing data set for a csv data file, this file was downloaded from kaggle's data set library."
   ]
  },
  {
   "cell_type": "code",
   "execution_count": 2,
   "metadata": {},
   "outputs": [],
   "source": [
    "data = pd.read_csv(\"//home//abhishek//Programs_practice//Machine_Learning//Machine_Learning_Workspace//Regression/FuelConsumption.csv\",encoding=\"ISO-8859-1\")"
   ]
  },
  {
   "cell_type": "code",
   "execution_count": 3,
   "metadata": {},
   "outputs": [
    {
     "data": {
      "text/html": [
       "<div>\n",
       "<style scoped>\n",
       "    .dataframe tbody tr th:only-of-type {\n",
       "        vertical-align: middle;\n",
       "    }\n",
       "\n",
       "    .dataframe tbody tr th {\n",
       "        vertical-align: top;\n",
       "    }\n",
       "\n",
       "    .dataframe thead th {\n",
       "        text-align: right;\n",
       "    }\n",
       "</style>\n",
       "<table border=\"1\" class=\"dataframe\">\n",
       "  <thead>\n",
       "    <tr style=\"text-align: right;\">\n",
       "      <th></th>\n",
       "      <th>MODEL</th>\n",
       "      <th>MAKE</th>\n",
       "      <th>MODEL.1</th>\n",
       "      <th>VEHICLE CLASS</th>\n",
       "      <th>ENGINESIZE</th>\n",
       "      <th>CYLINDERS</th>\n",
       "      <th>TRANSMISSION</th>\n",
       "      <th>FUEL</th>\n",
       "      <th>FUELCONSUMPTION_CITY</th>\n",
       "      <th>FUELCONSUMPTION_HWY</th>\n",
       "      <th>FUELCONSUMPTION_COMB</th>\n",
       "      <th>Unnamed: 11</th>\n",
       "      <th>CO2EMISSIONS</th>\n",
       "    </tr>\n",
       "  </thead>\n",
       "  <tbody>\n",
       "    <tr>\n",
       "      <td>0</td>\n",
       "      <td>YEAR</td>\n",
       "      <td>NaN</td>\n",
       "      <td># = high output engine</td>\n",
       "      <td>NaN</td>\n",
       "      <td>(L)</td>\n",
       "      <td>NaN</td>\n",
       "      <td>NaN</td>\n",
       "      <td>TYPE</td>\n",
       "      <td>CITY (L/100 km)</td>\n",
       "      <td>HWY (L/100 km)</td>\n",
       "      <td>COMB (L/100 km)</td>\n",
       "      <td>COMB (mpg)</td>\n",
       "      <td>(g/km)</td>\n",
       "    </tr>\n",
       "    <tr>\n",
       "      <td>1</td>\n",
       "      <td>2012</td>\n",
       "      <td>ACURA</td>\n",
       "      <td>MDX AWD</td>\n",
       "      <td>SUV</td>\n",
       "      <td>3.7</td>\n",
       "      <td>6.0</td>\n",
       "      <td>AS6</td>\n",
       "      <td>Z</td>\n",
       "      <td>14.8</td>\n",
       "      <td>11.3</td>\n",
       "      <td>13.2</td>\n",
       "      <td>21</td>\n",
       "      <td>304</td>\n",
       "    </tr>\n",
       "    <tr>\n",
       "      <td>2</td>\n",
       "      <td>2012</td>\n",
       "      <td>ACURA</td>\n",
       "      <td>RDX AWD TURBO</td>\n",
       "      <td>SUV</td>\n",
       "      <td>2.3</td>\n",
       "      <td>4.0</td>\n",
       "      <td>AS5</td>\n",
       "      <td>Z</td>\n",
       "      <td>13.2</td>\n",
       "      <td>10.3</td>\n",
       "      <td>11.9</td>\n",
       "      <td>24</td>\n",
       "      <td>274</td>\n",
       "    </tr>\n",
       "    <tr>\n",
       "      <td>3</td>\n",
       "      <td>2012</td>\n",
       "      <td>ACURA</td>\n",
       "      <td>RL AWD</td>\n",
       "      <td>MID-SIZE</td>\n",
       "      <td>3.7</td>\n",
       "      <td>6.0</td>\n",
       "      <td>AS6</td>\n",
       "      <td>Z</td>\n",
       "      <td>13.7</td>\n",
       "      <td>9.7</td>\n",
       "      <td>11.9</td>\n",
       "      <td>24</td>\n",
       "      <td>274</td>\n",
       "    </tr>\n",
       "    <tr>\n",
       "      <td>4</td>\n",
       "      <td>2012</td>\n",
       "      <td>ACURA</td>\n",
       "      <td>TL</td>\n",
       "      <td>MID-SIZE</td>\n",
       "      <td>3.5</td>\n",
       "      <td>6.0</td>\n",
       "      <td>AS6</td>\n",
       "      <td>Z</td>\n",
       "      <td>11.8</td>\n",
       "      <td>8.1</td>\n",
       "      <td>10.1</td>\n",
       "      <td>28</td>\n",
       "      <td>232</td>\n",
       "    </tr>\n",
       "    <tr>\n",
       "      <td>5</td>\n",
       "      <td>2012</td>\n",
       "      <td>ACURA</td>\n",
       "      <td>TL AWD</td>\n",
       "      <td>MID-SIZE</td>\n",
       "      <td>3.7</td>\n",
       "      <td>6.0</td>\n",
       "      <td>AS6</td>\n",
       "      <td>Z</td>\n",
       "      <td>12.9</td>\n",
       "      <td>9</td>\n",
       "      <td>11.1</td>\n",
       "      <td>25</td>\n",
       "      <td>255</td>\n",
       "    </tr>\n",
       "    <tr>\n",
       "      <td>6</td>\n",
       "      <td>2012</td>\n",
       "      <td>ACURA</td>\n",
       "      <td>TL AWD</td>\n",
       "      <td>MID-SIZE</td>\n",
       "      <td>3.7</td>\n",
       "      <td>6.0</td>\n",
       "      <td>M6</td>\n",
       "      <td>Z</td>\n",
       "      <td>13.4</td>\n",
       "      <td>9.5</td>\n",
       "      <td>11.6</td>\n",
       "      <td>24</td>\n",
       "      <td>267</td>\n",
       "    </tr>\n",
       "    <tr>\n",
       "      <td>7</td>\n",
       "      <td>2012</td>\n",
       "      <td>ACURA</td>\n",
       "      <td>TSX</td>\n",
       "      <td>COMPACT</td>\n",
       "      <td>2.4</td>\n",
       "      <td>4.0</td>\n",
       "      <td>AS5</td>\n",
       "      <td>Z</td>\n",
       "      <td>10.6</td>\n",
       "      <td>7.4</td>\n",
       "      <td>9.2</td>\n",
       "      <td>31</td>\n",
       "      <td>212</td>\n",
       "    </tr>\n",
       "    <tr>\n",
       "      <td>8</td>\n",
       "      <td>2012</td>\n",
       "      <td>ACURA</td>\n",
       "      <td>TSX</td>\n",
       "      <td>COMPACT</td>\n",
       "      <td>2.4</td>\n",
       "      <td>4.0</td>\n",
       "      <td>M6</td>\n",
       "      <td>Z</td>\n",
       "      <td>11.3</td>\n",
       "      <td>8.1</td>\n",
       "      <td>9.9</td>\n",
       "      <td>29</td>\n",
       "      <td>228</td>\n",
       "    </tr>\n",
       "    <tr>\n",
       "      <td>9</td>\n",
       "      <td>2012</td>\n",
       "      <td>ACURA</td>\n",
       "      <td>TSX</td>\n",
       "      <td>COMPACT</td>\n",
       "      <td>3.5</td>\n",
       "      <td>6.0</td>\n",
       "      <td>AS5</td>\n",
       "      <td>Z</td>\n",
       "      <td>12.1</td>\n",
       "      <td>8.3</td>\n",
       "      <td>10.4</td>\n",
       "      <td>27</td>\n",
       "      <td>239</td>\n",
       "    </tr>\n",
       "  </tbody>\n",
       "</table>\n",
       "</div>"
      ],
      "text/plain": [
       "  MODEL   MAKE                 MODEL.1 VEHICLE CLASS ENGINESIZE  CYLINDERS  \\\n",
       "0  YEAR    NaN  # = high output engine           NaN        (L)        NaN   \n",
       "1  2012  ACURA                 MDX AWD           SUV        3.7        6.0   \n",
       "2  2012  ACURA           RDX AWD TURBO           SUV        2.3        4.0   \n",
       "3  2012  ACURA                  RL AWD      MID-SIZE        3.7        6.0   \n",
       "4  2012  ACURA                      TL      MID-SIZE        3.5        6.0   \n",
       "5  2012  ACURA                  TL AWD      MID-SIZE        3.7        6.0   \n",
       "6  2012  ACURA                  TL AWD      MID-SIZE        3.7        6.0   \n",
       "7  2012  ACURA                     TSX       COMPACT        2.4        4.0   \n",
       "8  2012  ACURA                     TSX       COMPACT        2.4        4.0   \n",
       "9  2012  ACURA                     TSX       COMPACT        3.5        6.0   \n",
       "\n",
       "  TRANSMISSION  FUEL FUELCONSUMPTION_CITY FUELCONSUMPTION_HWY  \\\n",
       "0          NaN  TYPE      CITY (L/100 km)      HWY (L/100 km)   \n",
       "1          AS6     Z                 14.8                11.3   \n",
       "2          AS5     Z                 13.2                10.3   \n",
       "3          AS6     Z                 13.7                 9.7   \n",
       "4          AS6     Z                 11.8                 8.1   \n",
       "5          AS6     Z                 12.9                   9   \n",
       "6           M6     Z                 13.4                 9.5   \n",
       "7          AS5     Z                 10.6                 7.4   \n",
       "8           M6     Z                 11.3                 8.1   \n",
       "9          AS5     Z                 12.1                 8.3   \n",
       "\n",
       "  FUELCONSUMPTION_COMB Unnamed: 11 CO2EMISSIONS  \n",
       "0      COMB (L/100 km)  COMB (mpg)       (g/km)  \n",
       "1                 13.2          21          304  \n",
       "2                 11.9          24          274  \n",
       "3                 11.9          24          274  \n",
       "4                 10.1          28          232  \n",
       "5                 11.1          25          255  \n",
       "6                 11.6          24          267  \n",
       "7                  9.2          31          212  \n",
       "8                  9.9          29          228  \n",
       "9                 10.4          27          239  "
      ]
     },
     "execution_count": 3,
     "metadata": {},
     "output_type": "execute_result"
    }
   ],
   "source": [
    "data.head(10)"
   ]
  },
  {
   "cell_type": "code",
   "execution_count": 4,
   "metadata": {},
   "outputs": [
    {
     "name": "stdout",
     "output_type": "stream",
     "text": [
      "(1118, 13)\n",
      " \n",
      "Index(['MODEL', 'MAKE', 'MODEL.1', 'VEHICLE CLASS', 'ENGINESIZE', 'CYLINDERS',\n",
      "       'TRANSMISSION', 'FUEL', 'FUELCONSUMPTION_CITY', 'FUELCONSUMPTION_HWY',\n",
      "       'FUELCONSUMPTION_COMB', 'Unnamed: 11', 'CO2EMISSIONS'],\n",
      "      dtype='object')\n"
     ]
    }
   ],
   "source": [
    "print(data.shape)\n",
    "print(\" \")\n",
    "print(data.columns)"
   ]
  },
  {
   "cell_type": "code",
   "execution_count": 5,
   "metadata": {},
   "outputs": [
    {
     "name": "stdout",
     "output_type": "stream",
     "text": [
      "<class 'pandas.core.frame.DataFrame'>\n",
      "RangeIndex: 1118 entries, 0 to 1117\n",
      "Data columns (total 13 columns):\n",
      "MODEL                   1102 non-null object\n",
      "MAKE                    1111 non-null object\n",
      "MODEL.1                 1093 non-null object\n",
      "VEHICLE CLASS           1092 non-null object\n",
      "ENGINESIZE              1093 non-null object\n",
      "CYLINDERS               1092 non-null float64\n",
      "TRANSMISSION            1092 non-null object\n",
      "FUEL                    1093 non-null object\n",
      "FUELCONSUMPTION_CITY    1093 non-null object\n",
      "FUELCONSUMPTION_HWY     1093 non-null object\n",
      "FUELCONSUMPTION_COMB    1093 non-null object\n",
      "Unnamed: 11             1093 non-null object\n",
      "CO2EMISSIONS            1093 non-null object\n",
      "dtypes: float64(1), object(12)\n",
      "memory usage: 113.7+ KB\n"
     ]
    }
   ],
   "source": [
    "data.info()"
   ]
  },
  {
   "cell_type": "code",
   "execution_count": 6,
   "metadata": {},
   "outputs": [
    {
     "data": {
      "text/html": [
       "<div>\n",
       "<style scoped>\n",
       "    .dataframe tbody tr th:only-of-type {\n",
       "        vertical-align: middle;\n",
       "    }\n",
       "\n",
       "    .dataframe tbody tr th {\n",
       "        vertical-align: top;\n",
       "    }\n",
       "\n",
       "    .dataframe thead th {\n",
       "        text-align: right;\n",
       "    }\n",
       "</style>\n",
       "<table border=\"1\" class=\"dataframe\">\n",
       "  <thead>\n",
       "    <tr style=\"text-align: right;\">\n",
       "      <th></th>\n",
       "      <th>ENGINESIZE</th>\n",
       "      <th>CYLINDERS</th>\n",
       "      <th>FUELCONSUMPTION_CITY</th>\n",
       "      <th>FUELCONSUMPTION_COMB</th>\n",
       "      <th>FUELCONSUMPTION_HWY</th>\n",
       "      <th>CO2EMISSIONS</th>\n",
       "    </tr>\n",
       "  </thead>\n",
       "  <tbody>\n",
       "    <tr>\n",
       "      <td>0</td>\n",
       "      <td>(L)</td>\n",
       "      <td>NaN</td>\n",
       "      <td>CITY (L/100 km)</td>\n",
       "      <td>COMB (L/100 km)</td>\n",
       "      <td>HWY (L/100 km)</td>\n",
       "      <td>(g/km)</td>\n",
       "    </tr>\n",
       "    <tr>\n",
       "      <td>1</td>\n",
       "      <td>3.7</td>\n",
       "      <td>6.0</td>\n",
       "      <td>14.8</td>\n",
       "      <td>13.2</td>\n",
       "      <td>11.3</td>\n",
       "      <td>304</td>\n",
       "    </tr>\n",
       "    <tr>\n",
       "      <td>2</td>\n",
       "      <td>2.3</td>\n",
       "      <td>4.0</td>\n",
       "      <td>13.2</td>\n",
       "      <td>11.9</td>\n",
       "      <td>10.3</td>\n",
       "      <td>274</td>\n",
       "    </tr>\n",
       "    <tr>\n",
       "      <td>3</td>\n",
       "      <td>3.7</td>\n",
       "      <td>6.0</td>\n",
       "      <td>13.7</td>\n",
       "      <td>11.9</td>\n",
       "      <td>9.7</td>\n",
       "      <td>274</td>\n",
       "    </tr>\n",
       "    <tr>\n",
       "      <td>4</td>\n",
       "      <td>3.5</td>\n",
       "      <td>6.0</td>\n",
       "      <td>11.8</td>\n",
       "      <td>10.1</td>\n",
       "      <td>8.1</td>\n",
       "      <td>232</td>\n",
       "    </tr>\n",
       "  </tbody>\n",
       "</table>\n",
       "</div>"
      ],
      "text/plain": [
       "  ENGINESIZE  CYLINDERS FUELCONSUMPTION_CITY FUELCONSUMPTION_COMB  \\\n",
       "0        (L)        NaN      CITY (L/100 km)      COMB (L/100 km)   \n",
       "1        3.7        6.0                 14.8                 13.2   \n",
       "2        2.3        4.0                 13.2                 11.9   \n",
       "3        3.7        6.0                 13.7                 11.9   \n",
       "4        3.5        6.0                 11.8                 10.1   \n",
       "\n",
       "  FUELCONSUMPTION_HWY CO2EMISSIONS  \n",
       "0      HWY (L/100 km)       (g/km)  \n",
       "1                11.3          304  \n",
       "2                10.3          274  \n",
       "3                 9.7          274  \n",
       "4                 8.1          232  "
      ]
     },
     "execution_count": 6,
     "metadata": {},
     "output_type": "execute_result"
    }
   ],
   "source": [
    "df1 = data[['ENGINESIZE', 'CYLINDERS', 'FUELCONSUMPTION_CITY', 'FUELCONSUMPTION_COMB','FUELCONSUMPTION_HWY','CO2EMISSIONS']]\n",
    "df1.head()"
   ]
  },
  {
   "cell_type": "code",
   "execution_count": 7,
   "metadata": {},
   "outputs": [
    {
     "name": "stdout",
     "output_type": "stream",
     "text": [
      "<class 'pandas.core.frame.DataFrame'>\n",
      "RangeIndex: 1118 entries, 0 to 1117\n",
      "Data columns (total 6 columns):\n",
      "ENGINESIZE              1093 non-null object\n",
      "CYLINDERS               1092 non-null float64\n",
      "FUELCONSUMPTION_CITY    1093 non-null object\n",
      "FUELCONSUMPTION_COMB    1093 non-null object\n",
      "FUELCONSUMPTION_HWY     1093 non-null object\n",
      "CO2EMISSIONS            1093 non-null object\n",
      "dtypes: float64(1), object(5)\n",
      "memory usage: 52.5+ KB\n",
      "None\n",
      "\n",
      "\n",
      "ENGINESIZE              0\n",
      "CYLINDERS               0\n",
      "FUELCONSUMPTION_CITY    0\n",
      "FUELCONSUMPTION_COMB    0\n",
      "FUELCONSUMPTION_HWY     0\n",
      "CO2EMISSIONS            0\n",
      "dtype: int64\n"
     ]
    }
   ],
   "source": [
    "print(df1.info())\n",
    "print(\"\\n\")\n",
    "df1 = df1.dropna()\n",
    "print(df1.isna().sum())"
   ]
  },
  {
   "cell_type": "markdown",
   "metadata": {},
   "source": [
    "### Now since few of the features are of data type object thus, first we are going to convert them to float datatype"
   ]
  },
  {
   "cell_type": "code",
   "execution_count": 8,
   "metadata": {},
   "outputs": [
    {
     "name": "stdout",
     "output_type": "stream",
     "text": [
      "ENGINESIZE              float64\n",
      "CYLINDERS               float64\n",
      "FUELCONSUMPTION_CITY    float64\n",
      "FUELCONSUMPTION_COMB    float64\n",
      "FUELCONSUMPTION_HWY     float64\n",
      "CO2EMISSIONS            float64\n",
      "dtype: object\n"
     ]
    }
   ],
   "source": [
    "convert_dict = {'ENGINESIZE':float, 'CYLINDERS':float, 'FUELCONSUMPTION_CITY':float, 'FUELCONSUMPTION_HWY':float,'CO2EMISSIONS':float,'FUELCONSUMPTION_COMB':float}\n",
    "df = df1.astype(convert_dict)\n",
    "print(df.dtypes)"
   ]
  },
  {
   "cell_type": "code",
   "execution_count": 9,
   "metadata": {},
   "outputs": [
    {
     "data": {
      "text/html": [
       "<div>\n",
       "<style scoped>\n",
       "    .dataframe tbody tr th:only-of-type {\n",
       "        vertical-align: middle;\n",
       "    }\n",
       "\n",
       "    .dataframe tbody tr th {\n",
       "        vertical-align: top;\n",
       "    }\n",
       "\n",
       "    .dataframe thead th {\n",
       "        text-align: right;\n",
       "    }\n",
       "</style>\n",
       "<table border=\"1\" class=\"dataframe\">\n",
       "  <thead>\n",
       "    <tr style=\"text-align: right;\">\n",
       "      <th></th>\n",
       "      <th>ENGINESIZE</th>\n",
       "      <th>CYLINDERS</th>\n",
       "      <th>FUELCONSUMPTION_CITY</th>\n",
       "      <th>FUELCONSUMPTION_COMB</th>\n",
       "      <th>FUELCONSUMPTION_HWY</th>\n",
       "      <th>CO2EMISSIONS</th>\n",
       "    </tr>\n",
       "  </thead>\n",
       "  <tbody>\n",
       "    <tr>\n",
       "      <td>count</td>\n",
       "      <td>1092.000000</td>\n",
       "      <td>1092.000000</td>\n",
       "      <td>1092.000000</td>\n",
       "      <td>1092.000000</td>\n",
       "      <td>1092.000000</td>\n",
       "      <td>1092.000000</td>\n",
       "    </tr>\n",
       "    <tr>\n",
       "      <td>mean</td>\n",
       "      <td>3.559524</td>\n",
       "      <td>6.030220</td>\n",
       "      <td>14.053388</td>\n",
       "      <td>12.238278</td>\n",
       "      <td>10.022985</td>\n",
       "      <td>269.530220</td>\n",
       "    </tr>\n",
       "    <tr>\n",
       "      <td>std</td>\n",
       "      <td>1.387680</td>\n",
       "      <td>1.903252</td>\n",
       "      <td>4.250385</td>\n",
       "      <td>3.599725</td>\n",
       "      <td>2.861341</td>\n",
       "      <td>64.758906</td>\n",
       "    </tr>\n",
       "    <tr>\n",
       "      <td>min</td>\n",
       "      <td>1.000000</td>\n",
       "      <td>3.000000</td>\n",
       "      <td>4.500000</td>\n",
       "      <td>4.700000</td>\n",
       "      <td>4.900000</td>\n",
       "      <td>108.000000</td>\n",
       "    </tr>\n",
       "    <tr>\n",
       "      <td>25%</td>\n",
       "      <td>2.400000</td>\n",
       "      <td>4.000000</td>\n",
       "      <td>11.300000</td>\n",
       "      <td>9.900000</td>\n",
       "      <td>8.100000</td>\n",
       "      <td>225.000000</td>\n",
       "    </tr>\n",
       "    <tr>\n",
       "      <td>50%</td>\n",
       "      <td>3.500000</td>\n",
       "      <td>6.000000</td>\n",
       "      <td>13.200000</td>\n",
       "      <td>11.400000</td>\n",
       "      <td>9.400000</td>\n",
       "      <td>260.000000</td>\n",
       "    </tr>\n",
       "    <tr>\n",
       "      <td>75%</td>\n",
       "      <td>4.700000</td>\n",
       "      <td>8.000000</td>\n",
       "      <td>16.100000</td>\n",
       "      <td>13.900000</td>\n",
       "      <td>11.300000</td>\n",
       "      <td>306.000000</td>\n",
       "    </tr>\n",
       "    <tr>\n",
       "      <td>max</td>\n",
       "      <td>8.000000</td>\n",
       "      <td>16.000000</td>\n",
       "      <td>30.400000</td>\n",
       "      <td>26.000000</td>\n",
       "      <td>20.600000</td>\n",
       "      <td>547.000000</td>\n",
       "    </tr>\n",
       "  </tbody>\n",
       "</table>\n",
       "</div>"
      ],
      "text/plain": [
       "        ENGINESIZE    CYLINDERS  FUELCONSUMPTION_CITY  FUELCONSUMPTION_COMB  \\\n",
       "count  1092.000000  1092.000000           1092.000000           1092.000000   \n",
       "mean      3.559524     6.030220             14.053388             12.238278   \n",
       "std       1.387680     1.903252              4.250385              3.599725   \n",
       "min       1.000000     3.000000              4.500000              4.700000   \n",
       "25%       2.400000     4.000000             11.300000              9.900000   \n",
       "50%       3.500000     6.000000             13.200000             11.400000   \n",
       "75%       4.700000     8.000000             16.100000             13.900000   \n",
       "max       8.000000    16.000000             30.400000             26.000000   \n",
       "\n",
       "       FUELCONSUMPTION_HWY  CO2EMISSIONS  \n",
       "count          1092.000000   1092.000000  \n",
       "mean             10.022985    269.530220  \n",
       "std               2.861341     64.758906  \n",
       "min               4.900000    108.000000  \n",
       "25%               8.100000    225.000000  \n",
       "50%               9.400000    260.000000  \n",
       "75%              11.300000    306.000000  \n",
       "max              20.600000    547.000000  "
      ]
     },
     "execution_count": 9,
     "metadata": {},
     "output_type": "execute_result"
    }
   ],
   "source": [
    "df.describe()"
   ]
  },
  {
   "cell_type": "code",
   "execution_count": 10,
   "metadata": {},
   "outputs": [
    {
     "data": {
      "text/plain": [
       "<matplotlib.axes._subplots.AxesSubplot at 0x7f1817e8de50>"
      ]
     },
     "execution_count": 10,
     "metadata": {},
     "output_type": "execute_result"
    },
    {
     "data": {
      "image/png": "[encoded data removed]",
      "text/plain": [
       "<Figure size 576x576 with 2 Axes>"
      ]
     },
     "metadata": {
      "needs_background": "light"
     },
     "output_type": "display_data"
    }
   ],
   "source": [
    "fig, ax = plt.subplots(figsize=(8,8)) # Figure resize, size scalled in inches\n",
    "sns.heatmap(df.corr(),cmap='Blues',annot=True)"
   ]
  },
  {
   "cell_type": "markdown",
   "metadata": {},
   "source": [
    "## Linear Regression\n",
    "First we imply linear regression to predict the value of Carbondioxide *(CO2)* emission using independent feature EngineSize.\n",
    "Here 'x' is the independent feature and 'y' is the dependent feature (CO2Emission) that we wish to predict based on the independent feature (Enginesize)"
   ]
  },
  {
   "cell_type": "code",
   "execution_count": 18,
   "metadata": {},
   "outputs": [],
   "source": [
    "X = np.asanyarray(df['ENGINESIZE']).reshape(-1,1)\n",
    "y = np.asanyarray(df['CO2EMISSIONS'])"
   ]
  },
  {
   "cell_type": "code",
   "execution_count": 19,
   "metadata": {},
   "outputs": [],
   "source": [
    "from sklearn.model_selection import train_test_split\n",
    "from sklearn.linear_model import LinearRegression"
   ]
  },
  {
   "cell_type": "markdown",
   "metadata": {},
   "source": [
    "#### Split the data set into train and test set which are used to first train the model (i.e. fit) then make appropriate prediction and compare the results using the test set."
   ]
  },
  {
   "cell_type": "code",
   "execution_count": 20,
   "metadata": {},
   "outputs": [],
   "source": [
    "train_x, test_x, train_y, test_y = train_test_split(X,y,test_size = 0.2)"
   ]
  },
  {
   "cell_type": "code",
   "execution_count": 21,
   "metadata": {},
   "outputs": [],
   "source": [
    "LR = LinearRegression()\n",
    "model = LR.fit(train_x,train_y)"
   ]
  },
  {
   "cell_type": "markdown",
   "metadata": {},
   "source": [
    "Our hypothesis function, which in simple linear regression would be the equation of straight line :\n",
    "<br/>$ h_{\\theta} = \\theta_{0} + \\theta_{1} x^{i}$\n",
    "<br/>$\\theta_{0}$ is intercept\n",
    "<br/>$\\theta_{1}$ is the coeficient (i.e. slope)"
   ]
  },
  {
   "cell_type": "code",
   "execution_count": 22,
   "metadata": {},
   "outputs": [
    {
     "data": {
      "text/plain": [
       "array([39.45206772])"
      ]
     },
     "execution_count": 22,
     "metadata": {},
     "output_type": "execute_result"
    }
   ],
   "source": [
    "model.coef_"
   ]
  },
  {
   "cell_type": "code",
   "execution_count": 23,
   "metadata": {},
   "outputs": [
    {
     "data": {
      "text/plain": [
       "128.82588897717912"
      ]
     },
     "execution_count": 23,
     "metadata": {},
     "output_type": "execute_result"
    }
   ],
   "source": [
    "model.intercept_"
   ]
  },
  {
   "cell_type": "code",
   "execution_count": 31,
   "metadata": {},
   "outputs": [
    {
     "data": {
      "text/plain": [
       "array([326.08622756, 207.73002441, 191.94919732, 191.94919732,\n",
       "       326.08622756, 318.19581401, 247.18209212, 227.45605827,\n",
       "       286.63415984, 337.92184787])"
      ]
     },
     "execution_count": 31,
     "metadata": {},
     "output_type": "execute_result"
    }
   ],
   "source": [
    "y_pred = LR.predict(test_x)\n",
    "y_pred[0:10]"
   ]
  },
  {
   "cell_type": "code",
   "execution_count": 41,
   "metadata": {},
   "outputs": [
    {
     "data": {
      "text/plain": [
       "24.49500831121279"
      ]
     },
     "execution_count": 41,
     "metadata": {},
     "output_type": "execute_result"
    }
   ],
   "source": [
    "error = abs(y_pred - test_y)\n",
    "error.sum()/y_pred.size"
   ]
  },
  {
   "cell_type": "code",
   "execution_count": 43,
   "metadata": {},
   "outputs": [
    {
     "data": {
      "text/plain": [
       "[<matplotlib.lines.Line2D at 0x7f180f8d2ad0>]"
      ]
     },
     "execution_count": 43,
     "metadata": {},
     "output_type": "execute_result"
    },
    {
     "data": {
      "image/png": "[encoded data removed]",
      "text/plain": [
       "<Figure size 432x288 with 1 Axes>"
      ]
     },
     "metadata": {
      "needs_background": "light"
     },
     "output_type": "display_data"
    }
   ],
   "source": [
    "plt.scatter(train_x,train_y)\n",
    "plt.plot(test_x,y_pred,color='Red')"
   ]
  },
  {
   "cell_type": "code",
   "execution_count": 47,
   "metadata": {},
   "outputs": [],
   "source": [
    "from sklearn.metrics import mean_absolute_error\n",
    "from sklearn.metrics import r2_score"
   ]
  },
  {
   "cell_type": "code",
   "execution_count": 48,
   "metadata": {},
   "outputs": [
    {
     "name": "stdout",
     "output_type": "stream",
     "text": [
      "24.49500831121279\n"
     ]
    }
   ],
   "source": [
    "error_mae = mean_absolute_error(test_y,y_pred)\n",
    "error_mse = mean_squared_error(test_y,y_pred)\n",
    "print(error_mae)"
   ]
  },
  {
   "cell_type": "code",
   "execution_count": 49,
   "metadata": {},
   "outputs": [
    {
     "data": {
      "text/plain": [
       "0.7524993997985526"
      ]
     },
     "execution_count": 49,
     "metadata": {},
     "output_type": "execute_result"
    }
   ],
   "source": [
    "r2Error = r2_score(test_y,y_pred)\n",
    "r2Error"
   ]
  },
  {
   "cell_type": "code",
   "execution_count": 51,
   "metadata": {},
   "outputs": [
    {
     "data": {
      "text/plain": [
       "0.7336951382398076"
      ]
     },
     "execution_count": 51,
     "metadata": {},
     "output_type": "execute_result"
    }
   ],
   "source": [
    "LR.score(train_x, train_y)"
   ]
  },
  {
   "cell_type": "code",
   "execution_count": null,
   "metadata": {},
   "outputs": [],
   "source": []
  }
 ],
 "metadata": {
  "kernelspec": {
   "display_name": "Python 3",
   "language": "python",
   "name": "python3"
  },
  "language_info": {
   "codemirror_mode": {
    "name": "ipython",
    "version": 3
   },
   "file_extension": ".py",
   "mimetype": "text/x-python",
   "name": "python",
   "nbconvert_exporter": "python",
   "pygments_lexer": "ipython3",
   "version": "3.7.4"
  }
 },
 "nbformat": 4,
 "nbformat_minor": 2
}
